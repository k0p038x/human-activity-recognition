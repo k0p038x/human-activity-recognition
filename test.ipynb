{
 "cells": [
  {
   "cell_type": "code",
   "execution_count": 1,
   "metadata": {},
   "outputs": [
    {
     "name": "stderr",
     "output_type": "stream",
     "text": [
      "/home/chandu/anaconda3/lib/python3.6/site-packages/h5py/__init__.py:36: FutureWarning: Conversion of the second argument of issubdtype from `float` to `np.floating` is deprecated. In future, it will be treated as `np.float64 == np.dtype(float).type`.\n",
      "  from ._conv import register_converters as _register_converters\n",
      "Using TensorFlow backend.\n"
     ]
    },
    {
     "name": "stdout",
     "output_type": "stream",
     "text": [
      "_________________________________________________________________\n",
      "Layer (type)                 Output Shape              Param #   \n",
      "=================================================================\n",
      "conv3d_1 (Conv3D)            (None, 40, 120, 160, 16)  736       \n",
      "_________________________________________________________________\n",
      "max_pooling3d_1 (MaxPooling3 (None, 20, 60, 80, 16)    0         \n",
      "_________________________________________________________________\n",
      "conv3d_2 (Conv3D)            (None, 19, 58, 78, 64)    18496     \n",
      "_________________________________________________________________\n",
      "max_pooling3d_2 (MaxPooling3 (None, 10, 29, 39, 64)    0         \n",
      "_________________________________________________________________\n",
      "conv3d_3 (Conv3D)            (None, 9, 27, 37, 256)    295168    \n",
      "_________________________________________________________________\n",
      "max_pooling3d_3 (MaxPooling3 (None, 5, 14, 19, 256)    0         \n",
      "_________________________________________________________________\n",
      "conv3d_4 (Conv3D)            (None, 4, 12, 17, 1024)   4719616   \n",
      "_________________________________________________________________\n",
      "max_pooling3d_4 (MaxPooling3 (None, 2, 6, 9, 1024)     0         \n",
      "_________________________________________________________________\n",
      "global_average_pooling3d_1 ( (None, 1024)              0         \n",
      "_________________________________________________________________\n",
      "dense_1 (Dense)              (None, 32)                32800     \n",
      "_________________________________________________________________\n",
      "dropout_1 (Dropout)          (None, 32)                0         \n",
      "_________________________________________________________________\n",
      "dense_2 (Dense)              (None, 7)                 231       \n",
      "=================================================================\n",
      "Total params: 5,067,047\n",
      "Trainable params: 5,067,047\n",
      "Non-trainable params: 0\n",
      "_________________________________________________________________\n"
     ]
    }
   ],
   "source": [
    "from keras.models import Sequential\n",
    "from keras.layers import Conv3D, MaxPooling3D, GlobalAveragePooling3D, BatchNormalization\n",
    "from keras.layers.core import Dense, Dropout\n",
    "\n",
    "\n",
    "model = Sequential()\n",
    "\n",
    "\n",
    "model.add(Conv3D(filters=16, kernel_size=(5, 3, 3), strides=(1, 1, 1), padding='same', activation='relu', input_shape=(40, 120, 160, 1)))\n",
    "model.add(MaxPooling3D(pool_size=2, strides=(2, 2, 2), padding='same'))\n",
    "\n",
    "model.add(Conv3D(filters=64, kernel_size=(2, 3, 3), strides=(1, 1, 1), padding='valid', activation='relu'))\n",
    "model.add(MaxPooling3D(pool_size=2, strides=(2, 2, 2), padding='same'))\n",
    "\n",
    "model.add(Conv3D(filters=256, kernel_size=(2, 3, 3), strides=(1, 1, 1), padding='valid', activation='relu'))\n",
    "model.add(MaxPooling3D(pool_size=2, strides=(2, 2, 2), padding='same'))\n",
    "\n",
    "model.add(Conv3D(filters=1024, kernel_size=(2, 3, 3), strides=(1, 1, 1), padding='valid', activation='relu'))\n",
    "model.add(MaxPooling3D(pool_size=2, strides=(2, 2, 2), padding='same'))\n",
    "\n",
    "model.add(GlobalAveragePooling3D())\n",
    "\n",
    "model.add(Dense(32, activation='relu'))\n",
    "\n",
    "model.add(Dropout(0.5))\n",
    "\n",
    "model.add(Dense(7, activation='softmax'))\n",
    "\n",
    "model.summary()\n"
   ]
  },
  {
   "cell_type": "code",
   "execution_count": 2,
   "metadata": {},
   "outputs": [
    {
     "name": "stdout",
     "output_type": "stream",
     "text": [
      "(1, 40, 120, 160, 1)\n"
     ]
    }
   ],
   "source": [
    "import cv2\n",
    "import os\n",
    "from skvideo.utils import rgb2gray\n",
    "from tqdm import tqdm\n",
    "\n",
    "# Change the path of the test file \n",
    "# test file has to contain 40 frames with name \"frame - x.png\" and x is 5th multiple from 5 to 200\n",
    "\n",
    "path = '/home/chandu/Desktop/temp-org/we1/'\n",
    "\n",
    "\n",
    "ind_frames = []\n",
    "test_frames = []\n",
    "frames_count = 5\n",
    "\n",
    "while frames_count!=205:\n",
    "    img = cv2.imread(path+'/frame-'+str(frames_count)+'.png',1)\n",
    "    img = cv2.resize(img, (160,120))\n",
    "    frames_count = frames_count + 5\n",
    "    ind_frames.append(img)\n",
    "\n",
    "ind_frames = rgb2gray(ind_frames)\n",
    "test_frames.append(ind_frames)\n",
    "\n",
    "test_frames = np.array(test_frames)\n",
    "\n",
    "test_frames.astype('float32')\n",
    "test_frames/=255\n",
    "test_frames*=2\n",
    "test_frames-=1\n",
    "\n",
    "print(test_frames.shape)"
   ]
  },
  {
   "cell_type": "code",
   "execution_count": 3,
   "metadata": {},
   "outputs": [
    {
     "name": "stdout",
     "output_type": "stream",
     "text": [
      "1/1 [==============================] - 1s 933ms/step\n",
      "hand-waving : 0.0\n",
      "one-person-walking : 0.794\n",
      "two-persons-walking : 0.203\n",
      "boxing : 0.003\n",
      "hand-clapping : 0.0\n",
      "running : 0.0\n",
      "two-person-fighting : 0.0\n"
     ]
    }
   ],
   "source": [
    "\n",
    "# Note down the labels printed when you run the training code and make a label test in that order\n",
    "# add that path to weights\n",
    "\n",
    "labels = []\n",
    "\n",
    "weights_path = ''\n",
    "model.load_weights(weights_path)\n",
    "\n",
    "ans = model.predict(test_frames, verbose = 1)\n",
    "\n",
    "# to round probability to 3 decimals\n",
    "ans = np.around(ans, decimals=3)\n",
    "\n",
    "for i in range(7):\n",
    "    print(ans[0][i])\n",
    "\n",
    "    \n"
   ]
  }
 ],
 "metadata": {
  "kernelspec": {
   "display_name": "Python 3",
   "language": "python",
   "name": "python3"
  },
  "language_info": {
   "codemirror_mode": {
    "name": "ipython",
    "version": 3
   },
   "file_extension": ".py",
   "mimetype": "text/x-python",
   "name": "python",
   "nbconvert_exporter": "python",
   "pygments_lexer": "ipython3",
   "version": "3.6.5"
  },
  "varInspector": {
   "cols": {
    "lenName": 16,
    "lenType": 16,
    "lenVar": 40
   },
   "kernels_config": {
    "python": {
     "delete_cmd_postfix": "",
     "delete_cmd_prefix": "del ",
     "library": "var_list.py",
     "varRefreshCmd": "print(var_dic_list())"
    },
    "r": {
     "delete_cmd_postfix": ") ",
     "delete_cmd_prefix": "rm(",
     "library": "var_list.r",
     "varRefreshCmd": "cat(var_dic_list()) "
    }
   },
   "types_to_exclude": [
    "module",
    "function",
    "builtin_function_or_method",
    "instance",
    "_Feature"
   ],
   "window_display": false
  }
 },
 "nbformat": 4,
 "nbformat_minor": 2
}
